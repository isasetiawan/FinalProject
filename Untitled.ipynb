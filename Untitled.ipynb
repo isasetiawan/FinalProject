{
 "cells": [
  {
   "cell_type": "code",
   "execution_count": 1,
   "metadata": {},
   "outputs": [],
   "source": [
    "import cv2\n",
    "# import tensorflow as tf\n",
    "import os\n",
    "from keras.preprocessing.image import img_to_array, ImageDataGenerator\n",
    "from keras.utils import to_categorical\n",
    "from keras.models import Sequential\n",
    "from keras.layers.convolutional import Conv2D\n",
    "from keras.layers.convolutional import MaxPooling2D\n",
    "from keras.layers.core import Activation\n",
    "from keras.layers.core import Flatten\n",
    "from keras.layers.core import Dense\n",
    "from keras.optimizers import Adam\n",
    "from keras import backend as K\n",
    "from sklearn.model_selection import train_test_split\n",
    "import numpy as np\n",
    "import matplotlib.pyplot as plt"
   ]
  },
  {
   "cell_type": "code",
   "execution_count": 2,
   "metadata": {
    "collapsed": true
   },
   "outputs": [],
   "source": [
    "data_path = \"E:\\Isa\\kehidupan\\dataset\"\n",
    "specieces = os.listdir(data_path)\n",
    "data = []\n",
    "label = []\n",
    "for i, path in enumerate(specieces):\n",
    "    for file in os.listdir(\"%s\\%s\"%(data_path,path)):\n",
    "        image = cv2.imread(\"%s\\%s\\%s\"%(data_path,path,file))\n",
    "        image = cv2.resize(image, (300,300))\n",
    "        image = img_to_array(image)\n",
    "        data.append(image)\n",
    "        label.append(i)\n",
    "        \n",
    "data = np.array(data)/255.0\n",
    "labes = np.array(label)"
   ]
  },
  {
   "cell_type": "code",
   "execution_count": null,
   "metadata": {
    "scrolled": true
   },
   "outputs": [],
   "source": [
    "for path,i in enumerate(specieces):\n",
    "    print(path,i)\n",
    "for d in data:\n",
    "    print()\n",
    "    print(d)"
   ]
  },
  {
   "cell_type": "code",
   "execution_count": 3,
   "metadata": {
    "collapsed": true
   },
   "outputs": [],
   "source": [
    "(trainX, testX, trainY, testY) = train_test_split(data, labes, test_size = 0.2, shuffle = True)\n",
    "# print(to_categorical(trainY, num_classes=5))\n",
    "trainY = to_categorical(trainY, num_classes=5)\n",
    "testY = to_categorical(testY, num_classes=5)"
   ]
  },
  {
   "cell_type": "code",
   "execution_count": 4,
   "metadata": {
    "collapsed": true
   },
   "outputs": [],
   "source": [
    "aug = ImageDataGenerator(rotation_range=30, width_shift_range=0.1,height_shift_range=0.1, shear_range=0.2, zoom_range=0.2,horizontal_flip=True, fill_mode='nearest')"
   ]
  },
  {
   "cell_type": "code",
   "execution_count": 5,
   "metadata": {
    "collapsed": true
   },
   "outputs": [],
   "source": [
    "class LeNet:\n",
    "    @staticmethod\n",
    "    def build(w, h, d, classes):\n",
    "        model = Sequential()\n",
    "        input_shape = (h, w, d)\n",
    "        \n",
    "        if K.image_data_format() == \"channels_first\":\n",
    "            input_shape = (h, w, d)\n",
    "            \n",
    "        model.add(Conv2D(50, (5, 5), padding=\"same\", input_shape = input_shape))\n",
    "        model.add(Activation('relu'))\n",
    "        model.add(MaxPooling2D(pool_size=(2,2), strides=(2,2)))\n",
    "        \n",
    "        model.add(Conv2D(50, (5, 5), padding=\"same\"))\n",
    "        model.add(Activation('relu'))\n",
    "        model.add(MaxPooling2D(pool_size=(2,2), strides=(2,2)))\n",
    "        \n",
    "        model.add(Flatten())\n",
    "        model.add(Dense(50))\n",
    "        model.add(Activation(\"relu\"))\n",
    "        \n",
    "        model.add(Dense(classes))\n",
    "        model.add(Activation(\"softmax\"))\n",
    "        \n",
    "        return model"
   ]
  },
  {
   "cell_type": "code",
   "execution_count": 6,
   "metadata": {
    "collapsed": true
   },
   "outputs": [],
   "source": [
    "epoch = 25\n",
    "learning_rate = 1e-3\n",
    "batch_size = 10\n",
    "\n",
    "model = LeNet.build(300, 300, 3, 5)\n",
    "opt = Adam(lr=learning_rate, decay=1e-3/epoch)\n",
    "model.compile(loss=\"binary_crossentropy\", optimizer=opt, metrics=['accuracy'])"
   ]
  },
  {
   "cell_type": "code",
   "execution_count": 7,
   "metadata": {},
   "outputs": [
    {
     "name": "stdout",
     "output_type": "stream",
     "text": [
      "WARNING:tensorflow:Variable *= will be deprecated. Use variable.assign_mul if you want assignment to the variable value or 'x = x * y' if you want a new python Tensor object.\n",
      "Epoch 1/25\n",
      "33/33 [==============================] - 68s 2s/step - loss: 0.7500 - acc: 0.7842 - val_loss: 0.4880 - val_acc: 0.8000\n",
      "Epoch 2/25\n",
      "33/33 [==============================] - 54s 2s/step - loss: 0.4915 - acc: 0.8024 - val_loss: 0.4874 - val_acc: 0.8000\n",
      "Epoch 3/25\n",
      "33/33 [==============================] - 54s 2s/step - loss: 0.4840 - acc: 0.8030 - val_loss: 0.4839 - val_acc: 0.8072\n",
      "Epoch 4/25\n",
      "33/33 [==============================] - 54s 2s/step - loss: 0.4745 - acc: 0.8073 - val_loss: 0.4809 - val_acc: 0.8000\n",
      "Epoch 5/25\n",
      "33/33 [==============================] - 54s 2s/step - loss: 0.4802 - acc: 0.8012 - val_loss: 0.4711 - val_acc: 0.8072\n",
      "Epoch 6/25\n",
      "33/33 [==============================] - 54s 2s/step - loss: 0.4700 - acc: 0.8067 - val_loss: 0.4866 - val_acc: 0.7952\n",
      "Epoch 7/25\n",
      "33/33 [==============================] - 54s 2s/step - loss: 0.4525 - acc: 0.8133 - val_loss: 0.4766 - val_acc: 0.8120\n",
      "Epoch 8/25\n",
      "33/33 [==============================] - 54s 2s/step - loss: 0.4602 - acc: 0.8097 - val_loss: 0.4998 - val_acc: 0.8120\n",
      "Epoch 9/25\n",
      "33/33 [==============================] - 54s 2s/step - loss: 0.4421 - acc: 0.8153 - val_loss: 0.5318 - val_acc: 0.7928\n",
      "Epoch 10/25\n",
      "33/33 [==============================] - 54s 2s/step - loss: 0.4598 - acc: 0.8110 - val_loss: 0.4697 - val_acc: 0.8096\n",
      "Epoch 11/25\n",
      "33/33 [==============================] - 55s 2s/step - loss: 0.4662 - acc: 0.8092 - val_loss: 0.4644 - val_acc: 0.8072\n",
      "Epoch 12/25\n",
      "33/33 [==============================] - 54s 2s/step - loss: 0.4334 - acc: 0.8145 - val_loss: 0.5501 - val_acc: 0.7759\n",
      "Epoch 13/25\n",
      "33/33 [==============================] - 54s 2s/step - loss: 0.4194 - acc: 0.8206 - val_loss: 0.4148 - val_acc: 0.8241\n",
      "Epoch 14/25\n",
      "33/33 [==============================] - 54s 2s/step - loss: 0.4022 - acc: 0.8256 - val_loss: 0.4612 - val_acc: 0.8120\n",
      "Epoch 15/25\n",
      "33/33 [==============================] - 54s 2s/step - loss: 0.3771 - acc: 0.8292 - val_loss: 0.4353 - val_acc: 0.8217\n",
      "Epoch 16/25\n",
      "33/33 [==============================] - 54s 2s/step - loss: 0.3700 - acc: 0.8362 - val_loss: 0.4978 - val_acc: 0.8000\n",
      "Epoch 17/25\n",
      "33/33 [==============================] - 54s 2s/step - loss: 0.4083 - acc: 0.8298 - val_loss: 0.4593 - val_acc: 0.8048\n",
      "Epoch 18/25\n",
      "33/33 [==============================] - 54s 2s/step - loss: 0.3745 - acc: 0.8394 - val_loss: 0.4597 - val_acc: 0.8096\n",
      "Epoch 19/25\n",
      "33/33 [==============================] - 54s 2s/step - loss: 0.4180 - acc: 0.8195 - val_loss: 0.4302 - val_acc: 0.8120\n",
      "Epoch 20/25\n",
      "33/33 [==============================] - 54s 2s/step - loss: 0.3829 - acc: 0.8328 - val_loss: 0.4792 - val_acc: 0.8072\n",
      "Epoch 21/25\n",
      "33/33 [==============================] - 54s 2s/step - loss: 0.3710 - acc: 0.8347 - val_loss: 0.4344 - val_acc: 0.8048\n",
      "Epoch 22/25\n",
      "33/33 [==============================] - 54s 2s/step - loss: 0.3470 - acc: 0.8461 - val_loss: 0.4780 - val_acc: 0.8193\n",
      "Epoch 23/25\n",
      "33/33 [==============================] - 54s 2s/step - loss: 0.3675 - acc: 0.8315 - val_loss: 0.4990 - val_acc: 0.8000\n",
      "Epoch 24/25\n",
      "33/33 [==============================] - 54s 2s/step - loss: 0.3494 - acc: 0.8385 - val_loss: 0.4655 - val_acc: 0.8193\n",
      "Epoch 25/25\n",
      "33/33 [==============================] - 54s 2s/step - loss: 0.3526 - acc: 0.8432 - val_loss: 0.4834 - val_acc: 0.7928\n"
     ]
    }
   ],
   "source": [
    "h = model.fit_generator(aug.flow(trainX, trainY,  batch_size=batch_size), epochs=epoch, verbose=1, validation_data=(testX, testY))"
   ]
  },
  {
   "cell_type": "code",
   "execution_count": 9,
   "metadata": {},
   "outputs": [
    {
     "data": {
      "image/png": "[encoded data removed]",
      "text/plain": [
       "<Figure size 432x288 with 1 Axes>"
      ]
     },
     "metadata": {},
     "output_type": "display_data"
    }
   ],
   "source": [
    "# plt.style.use(\"ggplot\")\n",
    "plt.figure()\n",
    "N = epoch\n",
    "plt.plot(np.arange(0, N), h.history[\"loss\"], label=\"train_loss\")\n",
    "plt.plot(np.arange(0, N), h.history[\"val_loss\"], label=\"val_loss\")\n",
    "plt.plot(np.arange(0, N), h.history[\"acc\"], label=\"train_acc\")\n",
    "plt.plot(np.arange(0, N), h.history[\"val_acc\"], label=\"val_acc\")\n",
    "plt.xlabel(\"Epoch #\")\n",
    "plt.ylabel(\"Loss/Accuracy\")\n",
    "plt.legend(loc=\"lower right\")\n",
    "plt.show()"
   ]
  }
 ],
 "metadata": {
  "kernelspec": {
   "display_name": "Python (tensorlfow)",
   "language": "python",
   "name": "tensorflow"
  },
  "language_info": {
   "codemirror_mode": {
    "name": "ipython",
    "version": 3
   },
   "file_extension": ".py",
   "mimetype": "text/x-python",
   "name": "python",
   "nbconvert_exporter": "python",
   "pygments_lexer": "ipython3",
   "version": "3.5.5"
  }
 },
 "nbformat": 4,
 "nbformat_minor": 2
}
